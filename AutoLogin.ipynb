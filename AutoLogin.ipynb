{
 "cells": [
  {
   "cell_type": "markdown",
   "id": "fee4d205",
   "metadata": {},
   "source": [
    "# Step 1: Import all necessary packages and libraries "
   ]
  },
  {
   "cell_type": "code",
   "execution_count": 8,
   "id": "4c0bd6f5",
   "metadata": {},
   "outputs": [
    {
     "name": "stdout",
     "output_type": "stream",
     "text": [
      "Successfully imported all necessary libraries.\n"
     ]
    }
   ],
   "source": [
    "from selenium import webdriver\n",
    "from selenium.webdriver.common.keys import Keys\n",
    "from selenium.webdriver.support import expected_conditions as EC\n",
    "from selenium.webdriver.common.by import By\n",
    "from selenium.webdriver.support.wait import WebDriverWait\n",
    "import time\n",
    "import warnings\n",
    "warnings.filterwarnings('ignore')\n",
    "\n",
    "# Print a successful import message\n",
    "print('Successfully imported all necessary libraries.')"
   ]
  },
  {
   "cell_type": "markdown",
   "id": "3f2e0f4b",
   "metadata": {},
   "source": [
    "# Step 2: Define the path to Chrome web driver\n",
    "If you're using Chrome browser, you can download required driver here: https://chromedriver.chromium.org/downloads"
   ]
  },
  {
   "cell_type": "code",
   "execution_count": 9,
   "id": "fb074c12",
   "metadata": {},
   "outputs": [],
   "source": [
    "# No need to install!\n",
    "# Just puth chromedriver.exe somewhere in your machine and write the path here\n",
    "# Sample: 'C:/Users/.../chromedriver.exe'\n",
    "path   = 'Enter path to chromedriver.exe here'\n",
    "driver = webdriver.Chrome(path)\n",
    "\n",
    "# Open Instagram web page\n",
    "driver.get(\"http://www.instagram.com\")"
   ]
  },
  {
   "cell_type": "markdown",
   "id": "9948006d",
   "metadata": {},
   "source": [
    "# Step 3: Automate logging in process\n",
    "<br>\n",
    "<li>Click on <b>'Accept All'</b> \n",
    "<br>\n",
    "<li>Insert <b>'Username'</b>\n",
    "<br>\n",
    "<li>Insert <b>'Password'</b>\n",
    "<br>\n",
    "<li>Click on <b>'Not Now'</b>\n",
    "<br>\n",
    "<li>Click on <b>'Not Now'</b>"
   ]
  },
  {
   "cell_type": "code",
   "execution_count": 10,
   "id": "bda71d4d",
   "metadata": {},
   "outputs": [],
   "source": [
    "# Click on 'Accept All' button to accept cookies\n",
    "Cookies = WebDriverWait(driver, 15).until(EC.element_to_be_clickable((By.XPATH, '//button[contains(text(), \"Accept All\")]'))).click()"
   ]
  },
  {
   "cell_type": "code",
   "execution_count": 11,
   "id": "65dc618a",
   "metadata": {},
   "outputs": [],
   "source": [
    "# Target username and password buttons\n",
    "username = WebDriverWait(driver, 10).until(EC.element_to_be_clickable((By.CSS_SELECTOR, \"input[name='username']\")))\n",
    "password = WebDriverWait(driver, 10).until(EC.element_to_be_clickable((By.CSS_SELECTOR, \"input[name='password']\")))\n",
    "\n",
    "# Enter username and password\n",
    "username.clear()\n",
    "username.send_keys(\"Enter your username here\")\n",
    "password.clear()\n",
    "password.send_keys(\"Enter your password here\")"
   ]
  },
  {
   "cell_type": "code",
   "execution_count": 12,
   "id": "d51652d5",
   "metadata": {},
   "outputs": [],
   "source": [
    "# Target the login button and click it\n",
    "button = WebDriverWait(driver, 2).until(EC.element_to_be_clickable((By.CSS_SELECTOR, \"button[type='submit']\"))).click()"
   ]
  },
  {
   "cell_type": "code",
   "execution_count": 13,
   "id": "21e1ea31",
   "metadata": {},
   "outputs": [],
   "source": [
    "# Save Your Login Info? \n",
    "# Click on 'Not Now' button \n",
    "Info = WebDriverWait(driver, 15).until(EC.element_to_be_clickable((By.XPATH, '//button[contains(text(), \"Not Now\")]'))).click()"
   ]
  },
  {
   "cell_type": "code",
   "execution_count": 14,
   "id": "3d81f357",
   "metadata": {},
   "outputs": [],
   "source": [
    "# Turn on Notifications?\n",
    "# Click on 'Not Now' button \n",
    "Notifications = WebDriverWait(driver, 15).until(EC.element_to_be_clickable((By.XPATH, '//button[contains(text(), \"Not Now\")]'))).click()"
   ]
  },
  
